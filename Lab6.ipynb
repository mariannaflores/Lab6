{
 "cells": [
  {
   "cell_type": "markdown",
   "id": "cubic-produce",
   "metadata": {
    "id": "gentle-paint"
   },
   "source": [
    "# LABORATORIO 6"
   ]
  },
  {
   "cell_type": "code",
   "execution_count": 1,
   "id": "stock-veteran",
   "metadata": {
    "id": "patent-friday"
   },
   "outputs": [],
   "source": [
    "import pandas as pd\n",
    "import numpy as np\n",
    "from typing import List, Callable, Any\n",
    "from sklearn.model_selection import train_test_split\n",
    "from sklearn.preprocessing import StandardScaler\n",
    "import scipy.optimize as opt\n",
    "import matplotlib.pyplot as plt\n",
    "%matplotlib inline\n",
    "\n",
    "import warnings\n",
    "warnings.filterwarnings('ignore')"
   ]
  },
  {
   "cell_type": "markdown",
   "id": "lyric-nitrogen",
   "metadata": {
    "id": "hazardous-crisis"
   },
   "source": [
    "### DATOS"
   ]
  },
  {
   "cell_type": "code",
   "execution_count": 2,
   "id": "chemical-colorado",
   "metadata": {
    "colab": {
     "base_uri": "https://localhost:8080/"
    },
    "id": "heard-comfort",
    "outputId": "ce560238-c12e-49a0-c821-c80f225125db"
   },
   "outputs": [
    {
     "name": "stdout",
     "output_type": "stream",
     "text": [
      "<class 'pandas.core.frame.DataFrame'> (178, 14)\n"
     ]
    }
   ],
   "source": [
    "x = pd.read_csv('/Users/maria/OneDrive/Documentos/mle_laboratorios/Lab6/Lab6/wine_data.csv',\n",
    "                names=[\"1\", \"2\", \"3\", \"4\",\"5\", \"6\", \"7\", \"8\",\"9\", \"10\", \"11\", \"12\", \"13\",\"14\"])\n",
    "\n",
    "print(type(x), x.shape)"
   ]
  },
  {
   "cell_type": "code",
   "execution_count": 3,
   "id": "casual-think",
   "metadata": {},
   "outputs": [
    {
     "data": {
      "text/html": [
       "<div>\n",
       "<style scoped>\n",
       "    .dataframe tbody tr th:only-of-type {\n",
       "        vertical-align: middle;\n",
       "    }\n",
       "\n",
       "    .dataframe tbody tr th {\n",
       "        vertical-align: top;\n",
       "    }\n",
       "\n",
       "    .dataframe thead th {\n",
       "        text-align: right;\n",
       "    }\n",
       "</style>\n",
       "<table border=\"1\" class=\"dataframe\">\n",
       "  <thead>\n",
       "    <tr style=\"text-align: right;\">\n",
       "      <th></th>\n",
       "      <th>1</th>\n",
       "      <th>2</th>\n",
       "      <th>3</th>\n",
       "      <th>4</th>\n",
       "      <th>5</th>\n",
       "      <th>6</th>\n",
       "      <th>7</th>\n",
       "      <th>8</th>\n",
       "      <th>9</th>\n",
       "      <th>10</th>\n",
       "      <th>11</th>\n",
       "      <th>12</th>\n",
       "      <th>13</th>\n",
       "      <th>14</th>\n",
       "    </tr>\n",
       "  </thead>\n",
       "  <tbody>\n",
       "    <tr>\n",
       "      <th>count</th>\n",
       "      <td>178.000000</td>\n",
       "      <td>178.000000</td>\n",
       "      <td>178.000000</td>\n",
       "      <td>178.000000</td>\n",
       "      <td>178.000000</td>\n",
       "      <td>178.000000</td>\n",
       "      <td>178.000000</td>\n",
       "      <td>178.000000</td>\n",
       "      <td>178.000000</td>\n",
       "      <td>178.000000</td>\n",
       "      <td>178.000000</td>\n",
       "      <td>178.000000</td>\n",
       "      <td>178.000000</td>\n",
       "      <td>178.000000</td>\n",
       "    </tr>\n",
       "    <tr>\n",
       "      <th>mean</th>\n",
       "      <td>1.938202</td>\n",
       "      <td>13.000618</td>\n",
       "      <td>2.336348</td>\n",
       "      <td>2.366517</td>\n",
       "      <td>19.494944</td>\n",
       "      <td>99.741573</td>\n",
       "      <td>2.295112</td>\n",
       "      <td>2.029270</td>\n",
       "      <td>0.361854</td>\n",
       "      <td>1.590899</td>\n",
       "      <td>5.058090</td>\n",
       "      <td>0.957449</td>\n",
       "      <td>2.611685</td>\n",
       "      <td>746.893258</td>\n",
       "    </tr>\n",
       "    <tr>\n",
       "      <th>std</th>\n",
       "      <td>0.775035</td>\n",
       "      <td>0.811827</td>\n",
       "      <td>1.117146</td>\n",
       "      <td>0.274344</td>\n",
       "      <td>3.339564</td>\n",
       "      <td>14.282484</td>\n",
       "      <td>0.625851</td>\n",
       "      <td>0.998859</td>\n",
       "      <td>0.124453</td>\n",
       "      <td>0.572359</td>\n",
       "      <td>2.318286</td>\n",
       "      <td>0.228572</td>\n",
       "      <td>0.709990</td>\n",
       "      <td>314.907474</td>\n",
       "    </tr>\n",
       "    <tr>\n",
       "      <th>min</th>\n",
       "      <td>1.000000</td>\n",
       "      <td>11.030000</td>\n",
       "      <td>0.740000</td>\n",
       "      <td>1.360000</td>\n",
       "      <td>10.600000</td>\n",
       "      <td>70.000000</td>\n",
       "      <td>0.980000</td>\n",
       "      <td>0.340000</td>\n",
       "      <td>0.130000</td>\n",
       "      <td>0.410000</td>\n",
       "      <td>1.280000</td>\n",
       "      <td>0.480000</td>\n",
       "      <td>1.270000</td>\n",
       "      <td>278.000000</td>\n",
       "    </tr>\n",
       "    <tr>\n",
       "      <th>25%</th>\n",
       "      <td>1.000000</td>\n",
       "      <td>12.362500</td>\n",
       "      <td>1.602500</td>\n",
       "      <td>2.210000</td>\n",
       "      <td>17.200000</td>\n",
       "      <td>88.000000</td>\n",
       "      <td>1.742500</td>\n",
       "      <td>1.205000</td>\n",
       "      <td>0.270000</td>\n",
       "      <td>1.250000</td>\n",
       "      <td>3.220000</td>\n",
       "      <td>0.782500</td>\n",
       "      <td>1.937500</td>\n",
       "      <td>500.500000</td>\n",
       "    </tr>\n",
       "    <tr>\n",
       "      <th>50%</th>\n",
       "      <td>2.000000</td>\n",
       "      <td>13.050000</td>\n",
       "      <td>1.865000</td>\n",
       "      <td>2.360000</td>\n",
       "      <td>19.500000</td>\n",
       "      <td>98.000000</td>\n",
       "      <td>2.355000</td>\n",
       "      <td>2.135000</td>\n",
       "      <td>0.340000</td>\n",
       "      <td>1.555000</td>\n",
       "      <td>4.690000</td>\n",
       "      <td>0.965000</td>\n",
       "      <td>2.780000</td>\n",
       "      <td>673.500000</td>\n",
       "    </tr>\n",
       "    <tr>\n",
       "      <th>75%</th>\n",
       "      <td>3.000000</td>\n",
       "      <td>13.677500</td>\n",
       "      <td>3.082500</td>\n",
       "      <td>2.557500</td>\n",
       "      <td>21.500000</td>\n",
       "      <td>107.000000</td>\n",
       "      <td>2.800000</td>\n",
       "      <td>2.875000</td>\n",
       "      <td>0.437500</td>\n",
       "      <td>1.950000</td>\n",
       "      <td>6.200000</td>\n",
       "      <td>1.120000</td>\n",
       "      <td>3.170000</td>\n",
       "      <td>985.000000</td>\n",
       "    </tr>\n",
       "    <tr>\n",
       "      <th>max</th>\n",
       "      <td>3.000000</td>\n",
       "      <td>14.830000</td>\n",
       "      <td>5.800000</td>\n",
       "      <td>3.230000</td>\n",
       "      <td>30.000000</td>\n",
       "      <td>162.000000</td>\n",
       "      <td>3.880000</td>\n",
       "      <td>5.080000</td>\n",
       "      <td>0.660000</td>\n",
       "      <td>3.580000</td>\n",
       "      <td>13.000000</td>\n",
       "      <td>1.710000</td>\n",
       "      <td>4.000000</td>\n",
       "      <td>1680.000000</td>\n",
       "    </tr>\n",
       "  </tbody>\n",
       "</table>\n",
       "</div>"
      ],
      "text/plain": [
       "                1           2           3           4           5           6  \\\n",
       "count  178.000000  178.000000  178.000000  178.000000  178.000000  178.000000   \n",
       "mean     1.938202   13.000618    2.336348    2.366517   19.494944   99.741573   \n",
       "std      0.775035    0.811827    1.117146    0.274344    3.339564   14.282484   \n",
       "min      1.000000   11.030000    0.740000    1.360000   10.600000   70.000000   \n",
       "25%      1.000000   12.362500    1.602500    2.210000   17.200000   88.000000   \n",
       "50%      2.000000   13.050000    1.865000    2.360000   19.500000   98.000000   \n",
       "75%      3.000000   13.677500    3.082500    2.557500   21.500000  107.000000   \n",
       "max      3.000000   14.830000    5.800000    3.230000   30.000000  162.000000   \n",
       "\n",
       "                7           8           9          10          11          12  \\\n",
       "count  178.000000  178.000000  178.000000  178.000000  178.000000  178.000000   \n",
       "mean     2.295112    2.029270    0.361854    1.590899    5.058090    0.957449   \n",
       "std      0.625851    0.998859    0.124453    0.572359    2.318286    0.228572   \n",
       "min      0.980000    0.340000    0.130000    0.410000    1.280000    0.480000   \n",
       "25%      1.742500    1.205000    0.270000    1.250000    3.220000    0.782500   \n",
       "50%      2.355000    2.135000    0.340000    1.555000    4.690000    0.965000   \n",
       "75%      2.800000    2.875000    0.437500    1.950000    6.200000    1.120000   \n",
       "max      3.880000    5.080000    0.660000    3.580000   13.000000    1.710000   \n",
       "\n",
       "               13           14  \n",
       "count  178.000000   178.000000  \n",
       "mean     2.611685   746.893258  \n",
       "std      0.709990   314.907474  \n",
       "min      1.270000   278.000000  \n",
       "25%      1.937500   500.500000  \n",
       "50%      2.780000   673.500000  \n",
       "75%      3.170000   985.000000  \n",
       "max      4.000000  1680.000000  "
      ]
     },
     "execution_count": 3,
     "metadata": {},
     "output_type": "execute_result"
    }
   ],
   "source": [
    "x.describe()"
   ]
  },
  {
   "cell_type": "code",
   "execution_count": 4,
   "id": "aquatic-ozone",
   "metadata": {},
   "outputs": [
    {
     "data": {
      "image/png": "[encoded data removed]",
      "text/plain": [
       "<Figure size 432x288 with 1 Axes>"
      ]
     },
     "metadata": {
      "needs_background": "light"
     },
     "output_type": "display_data"
    }
   ],
   "source": [
    "#visualizacion datos de cada tipo de vino\n",
    "x.groupby('1')['1'].hist(bins=3)\n",
    "plt.show()"
   ]
  },
  {
   "cell_type": "code",
   "execution_count": 5,
   "id": "ruled-suite",
   "metadata": {},
   "outputs": [
    {
     "name": "stdout",
     "output_type": "stream",
     "text": [
      "(178, 13) (178,)\n"
     ]
    }
   ],
   "source": [
    "#Separacion de dataset en variable dependiente e independientes\n",
    "Y = x['1']\n",
    "X = x.iloc[:, [1,2,3,4,5,6,7,8,9,10,11,12,13]]\n",
    "print(X.shape, Y.shape)"
   ]
  },
  {
   "cell_type": "code",
   "execution_count": 6,
   "id": "tamil-geometry",
   "metadata": {},
   "outputs": [
    {
     "data": {
      "text/html": [
       "<div>\n",
       "<style scoped>\n",
       "    .dataframe tbody tr th:only-of-type {\n",
       "        vertical-align: middle;\n",
       "    }\n",
       "\n",
       "    .dataframe tbody tr th {\n",
       "        vertical-align: top;\n",
       "    }\n",
       "\n",
       "    .dataframe thead th {\n",
       "        text-align: right;\n",
       "    }\n",
       "</style>\n",
       "<table border=\"1\" class=\"dataframe\">\n",
       "  <thead>\n",
       "    <tr style=\"text-align: right;\">\n",
       "      <th></th>\n",
       "      <th>2</th>\n",
       "      <th>3</th>\n",
       "      <th>4</th>\n",
       "      <th>5</th>\n",
       "      <th>6</th>\n",
       "      <th>7</th>\n",
       "      <th>8</th>\n",
       "      <th>9</th>\n",
       "      <th>10</th>\n",
       "      <th>11</th>\n",
       "      <th>12</th>\n",
       "      <th>13</th>\n",
       "      <th>14</th>\n",
       "    </tr>\n",
       "  </thead>\n",
       "  <tbody>\n",
       "    <tr>\n",
       "      <th>0</th>\n",
       "      <td>14.23</td>\n",
       "      <td>1.71</td>\n",
       "      <td>2.43</td>\n",
       "      <td>15.6</td>\n",
       "      <td>127</td>\n",
       "      <td>2.80</td>\n",
       "      <td>3.06</td>\n",
       "      <td>0.28</td>\n",
       "      <td>2.29</td>\n",
       "      <td>5.64</td>\n",
       "      <td>1.04</td>\n",
       "      <td>3.92</td>\n",
       "      <td>1065</td>\n",
       "    </tr>\n",
       "    <tr>\n",
       "      <th>1</th>\n",
       "      <td>13.20</td>\n",
       "      <td>1.78</td>\n",
       "      <td>2.14</td>\n",
       "      <td>11.2</td>\n",
       "      <td>100</td>\n",
       "      <td>2.65</td>\n",
       "      <td>2.76</td>\n",
       "      <td>0.26</td>\n",
       "      <td>1.28</td>\n",
       "      <td>4.38</td>\n",
       "      <td>1.05</td>\n",
       "      <td>3.40</td>\n",
       "      <td>1050</td>\n",
       "    </tr>\n",
       "    <tr>\n",
       "      <th>2</th>\n",
       "      <td>13.16</td>\n",
       "      <td>2.36</td>\n",
       "      <td>2.67</td>\n",
       "      <td>18.6</td>\n",
       "      <td>101</td>\n",
       "      <td>2.80</td>\n",
       "      <td>3.24</td>\n",
       "      <td>0.30</td>\n",
       "      <td>2.81</td>\n",
       "      <td>5.68</td>\n",
       "      <td>1.03</td>\n",
       "      <td>3.17</td>\n",
       "      <td>1185</td>\n",
       "    </tr>\n",
       "    <tr>\n",
       "      <th>3</th>\n",
       "      <td>14.37</td>\n",
       "      <td>1.95</td>\n",
       "      <td>2.50</td>\n",
       "      <td>16.8</td>\n",
       "      <td>113</td>\n",
       "      <td>3.85</td>\n",
       "      <td>3.49</td>\n",
       "      <td>0.24</td>\n",
       "      <td>2.18</td>\n",
       "      <td>7.80</td>\n",
       "      <td>0.86</td>\n",
       "      <td>3.45</td>\n",
       "      <td>1480</td>\n",
       "    </tr>\n",
       "    <tr>\n",
       "      <th>4</th>\n",
       "      <td>13.24</td>\n",
       "      <td>2.59</td>\n",
       "      <td>2.87</td>\n",
       "      <td>21.0</td>\n",
       "      <td>118</td>\n",
       "      <td>2.80</td>\n",
       "      <td>2.69</td>\n",
       "      <td>0.39</td>\n",
       "      <td>1.82</td>\n",
       "      <td>4.32</td>\n",
       "      <td>1.04</td>\n",
       "      <td>2.93</td>\n",
       "      <td>735</td>\n",
       "    </tr>\n",
       "  </tbody>\n",
       "</table>\n",
       "</div>"
      ],
      "text/plain": [
       "       2     3     4     5    6     7     8     9    10    11    12    13  \\\n",
       "0  14.23  1.71  2.43  15.6  127  2.80  3.06  0.28  2.29  5.64  1.04  3.92   \n",
       "1  13.20  1.78  2.14  11.2  100  2.65  2.76  0.26  1.28  4.38  1.05  3.40   \n",
       "2  13.16  2.36  2.67  18.6  101  2.80  3.24  0.30  2.81  5.68  1.03  3.17   \n",
       "3  14.37  1.95  2.50  16.8  113  3.85  3.49  0.24  2.18  7.80  0.86  3.45   \n",
       "4  13.24  2.59  2.87  21.0  118  2.80  2.69  0.39  1.82  4.32  1.04  2.93   \n",
       "\n",
       "     14  \n",
       "0  1065  \n",
       "1  1050  \n",
       "2  1185  \n",
       "3  1480  \n",
       "4   735  "
      ]
     },
     "execution_count": 6,
     "metadata": {},
     "output_type": "execute_result"
    }
   ],
   "source": [
    "X.head()"
   ]
  },
  {
   "cell_type": "markdown",
   "id": "informal-press",
   "metadata": {},
   "source": [
    "### ESTANDARIZACION DE VARIABLES INDEPENDIENTES"
   ]
  },
  {
   "cell_type": "code",
   "execution_count": 7,
   "id": "associate-father",
   "metadata": {},
   "outputs": [],
   "source": [
    "sc = StandardScaler()\n",
    "est = sc.fit_transform(X)\n",
    "est = pd.DataFrame(est)"
   ]
  },
  {
   "cell_type": "code",
   "execution_count": 8,
   "id": "fundamental-audience",
   "metadata": {},
   "outputs": [
    {
     "data": {
      "text/html": [
       "<div>\n",
       "<style scoped>\n",
       "    .dataframe tbody tr th:only-of-type {\n",
       "        vertical-align: middle;\n",
       "    }\n",
       "\n",
       "    .dataframe tbody tr th {\n",
       "        vertical-align: top;\n",
       "    }\n",
       "\n",
       "    .dataframe thead th {\n",
       "        text-align: right;\n",
       "    }\n",
       "</style>\n",
       "<table border=\"1\" class=\"dataframe\">\n",
       "  <thead>\n",
       "    <tr style=\"text-align: right;\">\n",
       "      <th></th>\n",
       "      <th>0</th>\n",
       "      <th>1</th>\n",
       "      <th>2</th>\n",
       "      <th>3</th>\n",
       "      <th>4</th>\n",
       "      <th>5</th>\n",
       "      <th>6</th>\n",
       "      <th>7</th>\n",
       "      <th>8</th>\n",
       "      <th>9</th>\n",
       "      <th>10</th>\n",
       "      <th>11</th>\n",
       "      <th>12</th>\n",
       "    </tr>\n",
       "  </thead>\n",
       "  <tbody>\n",
       "    <tr>\n",
       "      <th>0</th>\n",
       "      <td>1.518613</td>\n",
       "      <td>-0.562250</td>\n",
       "      <td>0.232053</td>\n",
       "      <td>-1.169593</td>\n",
       "      <td>1.913905</td>\n",
       "      <td>0.808997</td>\n",
       "      <td>1.034819</td>\n",
       "      <td>-0.659563</td>\n",
       "      <td>1.224884</td>\n",
       "      <td>0.251717</td>\n",
       "      <td>0.362177</td>\n",
       "      <td>1.847920</td>\n",
       "      <td>1.013009</td>\n",
       "    </tr>\n",
       "    <tr>\n",
       "      <th>1</th>\n",
       "      <td>0.246290</td>\n",
       "      <td>-0.499413</td>\n",
       "      <td>-0.827996</td>\n",
       "      <td>-2.490847</td>\n",
       "      <td>0.018145</td>\n",
       "      <td>0.568648</td>\n",
       "      <td>0.733629</td>\n",
       "      <td>-0.820719</td>\n",
       "      <td>-0.544721</td>\n",
       "      <td>-0.293321</td>\n",
       "      <td>0.406051</td>\n",
       "      <td>1.113449</td>\n",
       "      <td>0.965242</td>\n",
       "    </tr>\n",
       "    <tr>\n",
       "      <th>2</th>\n",
       "      <td>0.196879</td>\n",
       "      <td>0.021231</td>\n",
       "      <td>1.109334</td>\n",
       "      <td>-0.268738</td>\n",
       "      <td>0.088358</td>\n",
       "      <td>0.808997</td>\n",
       "      <td>1.215533</td>\n",
       "      <td>-0.498407</td>\n",
       "      <td>2.135968</td>\n",
       "      <td>0.269020</td>\n",
       "      <td>0.318304</td>\n",
       "      <td>0.788587</td>\n",
       "      <td>1.395148</td>\n",
       "    </tr>\n",
       "    <tr>\n",
       "      <th>3</th>\n",
       "      <td>1.691550</td>\n",
       "      <td>-0.346811</td>\n",
       "      <td>0.487926</td>\n",
       "      <td>-0.809251</td>\n",
       "      <td>0.930918</td>\n",
       "      <td>2.491446</td>\n",
       "      <td>1.466525</td>\n",
       "      <td>-0.981875</td>\n",
       "      <td>1.032155</td>\n",
       "      <td>1.186068</td>\n",
       "      <td>-0.427544</td>\n",
       "      <td>1.184071</td>\n",
       "      <td>2.334574</td>\n",
       "    </tr>\n",
       "    <tr>\n",
       "      <th>4</th>\n",
       "      <td>0.295700</td>\n",
       "      <td>0.227694</td>\n",
       "      <td>1.840403</td>\n",
       "      <td>0.451946</td>\n",
       "      <td>1.281985</td>\n",
       "      <td>0.808997</td>\n",
       "      <td>0.663351</td>\n",
       "      <td>0.226796</td>\n",
       "      <td>0.401404</td>\n",
       "      <td>-0.319276</td>\n",
       "      <td>0.362177</td>\n",
       "      <td>0.449601</td>\n",
       "      <td>-0.037874</td>\n",
       "    </tr>\n",
       "  </tbody>\n",
       "</table>\n",
       "</div>"
      ],
      "text/plain": [
       "         0         1         2         3         4         5         6   \\\n",
       "0  1.518613 -0.562250  0.232053 -1.169593  1.913905  0.808997  1.034819   \n",
       "1  0.246290 -0.499413 -0.827996 -2.490847  0.018145  0.568648  0.733629   \n",
       "2  0.196879  0.021231  1.109334 -0.268738  0.088358  0.808997  1.215533   \n",
       "3  1.691550 -0.346811  0.487926 -0.809251  0.930918  2.491446  1.466525   \n",
       "4  0.295700  0.227694  1.840403  0.451946  1.281985  0.808997  0.663351   \n",
       "\n",
       "         7         8         9         10        11        12  \n",
       "0 -0.659563  1.224884  0.251717  0.362177  1.847920  1.013009  \n",
       "1 -0.820719 -0.544721 -0.293321  0.406051  1.113449  0.965242  \n",
       "2 -0.498407  2.135968  0.269020  0.318304  0.788587  1.395148  \n",
       "3 -0.981875  1.032155  1.186068 -0.427544  1.184071  2.334574  \n",
       "4  0.226796  0.401404 -0.319276  0.362177  0.449601 -0.037874  "
      ]
     },
     "execution_count": 8,
     "metadata": {},
     "output_type": "execute_result"
    }
   ],
   "source": [
    "est.head()"
   ]
  },
  {
   "cell_type": "code",
   "execution_count": 9,
   "id": "premium-contamination",
   "metadata": {},
   "outputs": [
    {
     "name": "stdout",
     "output_type": "stream",
     "text": [
      "<class 'pandas.core.frame.DataFrame'> (178, 14)\n"
     ]
    }
   ],
   "source": [
    "est = pd.concat([pd.Series(1, index = est.index, name = '13'), est], axis=1)\n",
    "print(type(est), est.shape)"
   ]
  },
  {
   "cell_type": "code",
   "execution_count": 10,
   "id": "grand-collectible",
   "metadata": {
    "colab": {
     "base_uri": "https://localhost:8080/"
    },
    "id": "medical-norwegian",
    "outputId": "e185a911-7d2b-4296-ca53-cb9c3d874f27"
   },
   "outputs": [
    {
     "name": "stdout",
     "output_type": "stream",
     "text": [
      "(178, 14) (178, 1)\n"
     ]
    }
   ],
   "source": [
    "Y_procesado = np.array(Y).T\n",
    "Y_procesado = Y_procesado.reshape(178,1)\n",
    "X_procesado = np.array(est)\n",
    "\n",
    "m,n = X_procesado.shape\n",
    "print(X_procesado.shape, Y_procesado.shape)"
   ]
  },
  {
   "cell_type": "code",
   "execution_count": 11,
   "id": "parental-growth",
   "metadata": {},
   "outputs": [],
   "source": [
    "x_train, x_test = train_test_split(X_procesado, test_size=0.33)\n",
    "y_train, y_test = train_test_split(Y_procesado, test_size=0.33)"
   ]
  },
  {
   "cell_type": "markdown",
   "id": "economic-disease",
   "metadata": {
    "id": "normal-robin"
   },
   "source": [
    "### FUNCIONES\n",
    "\n",
    "Se realiza una prueba general del algoritmo con el dataset entero, se validara la funcionalidad para cada clase mas adelante"
   ]
  },
  {
   "cell_type": "code",
   "execution_count": 12,
   "id": "indian-party",
   "metadata": {},
   "outputs": [],
   "source": [
    "theta_0 = np.random.rand(n, 1).T"
   ]
  },
  {
   "cell_type": "code",
   "execution_count": 13,
   "id": "collectible-redhead",
   "metadata": {},
   "outputs": [],
   "source": [
    "def hyp(X, theta):\n",
    "    z = np.dot(theta, X.T)\n",
    "    return 1/(1+np.exp(-(z))) - 0.0000001"
   ]
  },
  {
   "cell_type": "code",
   "execution_count": 14,
   "id": "equivalent-literature",
   "metadata": {},
   "outputs": [],
   "source": [
    "def log_cost(X, y, theta):\n",
    "    y1 = hyp(X, theta)\n",
    "    return -(1/len(X)) * np.sum(y*np.log(y1) + (1-y)*np.log(1-y1))"
   ]
  },
  {
   "cell_type": "code",
   "execution_count": 15,
   "id": "physical-heather",
   "metadata": {},
   "outputs": [],
   "source": [
    "def gradient_descent(X, y, theta, learning_rate, max_iter):\n",
    "    m =len(X)\n",
    "    J = [log_cost(X, y, theta)] \n",
    "    for i in range(0, max_iter):\n",
    "        h = hyp(X, theta)\n",
    "        for i in range(0, len(X)):\n",
    "            theta = theta - (learning_rate * log_cost(X, y, theta))\n",
    "        J.append(log_cost(X, y, theta))\n",
    "    return J, theta"
   ]
  },
  {
   "cell_type": "code",
   "execution_count": 16,
   "id": "handed-rabbit",
   "metadata": {},
   "outputs": [],
   "source": [
    "costs, theta = gradient_descent(X_procesado, Y_procesado, theta_0, learning_rate = 0.0001, max_iter = 1000)"
   ]
  },
  {
   "cell_type": "code",
   "execution_count": 17,
   "id": "capable-attack",
   "metadata": {},
   "outputs": [],
   "source": [
    "c, t = gradient_descent(x_train, y_train, theta_0, learning_rate = 0.000001, max_iter = 10000)"
   ]
  },
  {
   "cell_type": "code",
   "execution_count": 18,
   "id": "violent-patrol",
   "metadata": {},
   "outputs": [
    {
     "data": {
      "image/png": "[encoded data removed]",
      "text/plain": [
       "<Figure size 576x288 with 1 Axes>"
      ]
     },
     "metadata": {
      "needs_background": "light"
     },
     "output_type": "display_data"
    }
   ],
   "source": [
    "fig,ax = plt.subplots(figsize=(8,4))\n",
    "_=ax.plot(range(10001),c,'b.')"
   ]
  },
  {
   "cell_type": "code",
   "execution_count": 19,
   "id": "returning-championship",
   "metadata": {},
   "outputs": [
    {
     "data": {
      "image/png": "[encoded data removed]",
      "text/plain": [
       "<Figure size 432x288 with 1 Axes>"
      ]
     },
     "metadata": {
      "needs_background": "light"
     },
     "output_type": "display_data"
    }
   ],
   "source": [
    "pred = hyp(x_test,theta)\n",
    "plt.figure()\n",
    "plt.scatter(x=x_train[:,1],y= y_train)          \n",
    "plt.scatter(x=x_test[:,1], y=pred)\n",
    "plt.show()"
   ]
  },
  {
   "cell_type": "code",
   "execution_count": 20,
   "id": "signed-monday",
   "metadata": {},
   "outputs": [],
   "source": [
    "uno = x[x['1']==1]\n",
    "dos = x[x['1']==2]\n",
    "tres = x[x['1']==3]"
   ]
  },
  {
   "cell_type": "markdown",
   "id": "studied-sucking",
   "metadata": {},
   "source": [
    "### CLASE 1"
   ]
  },
  {
   "cell_type": "code",
   "execution_count": 21,
   "id": "driving-canberra",
   "metadata": {},
   "outputs": [
    {
     "name": "stdout",
     "output_type": "stream",
     "text": [
      "(59, 13) (59,)\n"
     ]
    }
   ],
   "source": [
    "Y1 = uno['1']\n",
    "X1 = uno.iloc[:, [1,2,3,4,5,6,7,8,9,10,11,12,13]]\n",
    "print(X1.shape, Y1.shape)"
   ]
  },
  {
   "cell_type": "code",
   "execution_count": 22,
   "id": "female-lafayette",
   "metadata": {},
   "outputs": [],
   "source": [
    "sc1 = StandardScaler()\n",
    "est1 = sc.fit_transform(X1)\n",
    "est1 = pd.DataFrame(est1)\n",
    "\n",
    "Y_procesado1 = np.array(Y1).T\n",
    "Y_procesado1 = Y_procesado1.reshape(59,1)\n",
    "X_procesado1 = np.array(est1)\n",
    "\n",
    "m1,n1 = X_procesado1.shape\n",
    "x_train1, x_test1 = train_test_split(X_procesado1, test_size=0.33)\n",
    "y_train1, y_test1 = train_test_split(Y_procesado1, test_size=0.33)\n",
    "\n",
    "theta_01 = np.random.rand(n1, 1).T"
   ]
  },
  {
   "cell_type": "code",
   "execution_count": 23,
   "id": "regulation-plane",
   "metadata": {},
   "outputs": [],
   "source": [
    "c1, t1 = gradient_descent(x_train1, y_train1, theta_01, learning_rate = 0.00001, max_iter = 1000)"
   ]
  },
  {
   "cell_type": "code",
   "execution_count": 36,
   "id": "bacterial-failing",
   "metadata": {},
   "outputs": [
    {
     "name": "stdout",
     "output_type": "stream",
     "text": [
      "29.458007153676018\n"
     ]
    }
   ],
   "source": [
    "print(min(c1))"
   ]
  },
  {
   "cell_type": "code",
   "execution_count": 24,
   "id": "collected-plane",
   "metadata": {},
   "outputs": [
    {
     "data": {
      "image/png": "[encoded data removed]",
      "text/plain": [
       "<Figure size 576x288 with 1 Axes>"
      ]
     },
     "metadata": {
      "needs_background": "light"
     },
     "output_type": "display_data"
    }
   ],
   "source": [
    "fig,ax = plt.subplots(figsize=(8,4))\n",
    "_=ax.plot(range(1001),c1,'b.')"
   ]
  },
  {
   "cell_type": "code",
   "execution_count": 25,
   "id": "equivalent-miniature",
   "metadata": {},
   "outputs": [
    {
     "data": {
      "image/png": "[encoded data removed]",
      "text/plain": [
       "<Figure size 432x288 with 1 Axes>"
      ]
     },
     "metadata": {
      "needs_background": "light"
     },
     "output_type": "display_data"
    }
   ],
   "source": [
    "pred1 = hyp(x_test1,t1)\n",
    "plt.figure()\n",
    "plt.scatter(x=x_train1[:,1],y= y_train1)          \n",
    "plt.scatter(x=x_test1[:,1], y=pred1)\n",
    "plt.show()"
   ]
  },
  {
   "cell_type": "markdown",
   "id": "endangered-astrology",
   "metadata": {},
   "source": [
    "### CLASE 2"
   ]
  },
  {
   "cell_type": "code",
   "execution_count": 26,
   "id": "owned-tomorrow",
   "metadata": {},
   "outputs": [
    {
     "name": "stdout",
     "output_type": "stream",
     "text": [
      "(71, 13) (71,)\n"
     ]
    }
   ],
   "source": [
    "Y2 = dos['1']\n",
    "X2 = dos.iloc[:, [1,2,3,4,5,6,7,8,9,10,11,12,13]]\n",
    "print(X2.shape, Y2.shape)"
   ]
  },
  {
   "cell_type": "code",
   "execution_count": 27,
   "id": "finished-haiti",
   "metadata": {},
   "outputs": [],
   "source": [
    "sc2 = StandardScaler()\n",
    "est2 = sc.fit_transform(X2)\n",
    "est2 = pd.DataFrame(est2)\n",
    "\n",
    "Y_procesado2 = np.array(Y2).T\n",
    "Y_procesado2 = Y_procesado2.reshape(71,1)\n",
    "X_procesado2 = np.array(est2)\n",
    "\n",
    "m2,n2 = X_procesado2.shape\n",
    "x_train2, x_test2 = train_test_split(X_procesado2, test_size=0.33)\n",
    "y_train2, y_test2 = train_test_split(Y_procesado2, test_size=0.33)\n",
    "\n",
    "theta_02 = np.random.rand(n2, 1).T"
   ]
  },
  {
   "cell_type": "code",
   "execution_count": 28,
   "id": "lonely-transition",
   "metadata": {},
   "outputs": [],
   "source": [
    "c2, t2 = gradient_descent(x_train2, y_train2, theta_02, learning_rate = 0.00001, max_iter = 1000)"
   ]
  },
  {
   "cell_type": "code",
   "execution_count": 37,
   "id": "specialized-commissioner",
   "metadata": {},
   "outputs": [
    {
     "name": "stdout",
     "output_type": "stream",
     "text": [
      "30.90927264602434\n"
     ]
    }
   ],
   "source": [
    "print(min(c2))"
   ]
  },
  {
   "cell_type": "code",
   "execution_count": 29,
   "id": "conceptual-surname",
   "metadata": {},
   "outputs": [
    {
     "data": {
      "image/png": "[encoded data removed]",
      "text/plain": [
       "<Figure size 576x288 with 1 Axes>"
      ]
     },
     "metadata": {
      "needs_background": "light"
     },
     "output_type": "display_data"
    }
   ],
   "source": [
    "fig,ax = plt.subplots(figsize=(8,4))\n",
    "_=ax.plot(range(1001),c2,'b.')"
   ]
  },
  {
   "cell_type": "code",
   "execution_count": 30,
   "id": "opening-cisco",
   "metadata": {},
   "outputs": [
    {
     "data": {
      "image/png": "[encoded data removed]",
      "text/plain": [
       "<Figure size 432x288 with 1 Axes>"
      ]
     },
     "metadata": {
      "needs_background": "light"
     },
     "output_type": "display_data"
    }
   ],
   "source": [
    "pred2 = hyp(x_test2,t2)\n",
    "plt.figure()\n",
    "plt.scatter(x=x_train2[:,2],y= y_train2)          \n",
    "plt.scatter(x=x_test2[:,2], y=pred2)\n",
    "plt.show()"
   ]
  },
  {
   "cell_type": "markdown",
   "id": "experimental-senate",
   "metadata": {},
   "source": [
    "### CLASE 3"
   ]
  },
  {
   "cell_type": "code",
   "execution_count": 31,
   "id": "aggressive-content",
   "metadata": {},
   "outputs": [
    {
     "name": "stdout",
     "output_type": "stream",
     "text": [
      "(48, 13) (48,)\n"
     ]
    }
   ],
   "source": [
    "Y3 = tres['1']\n",
    "X3 = tres.iloc[:, [1,2,3,4,5,6,7,8,9,10,11,12,13]]\n",
    "print(X3.shape, Y3.shape)"
   ]
  },
  {
   "cell_type": "code",
   "execution_count": 32,
   "id": "bigger-flood",
   "metadata": {},
   "outputs": [],
   "source": [
    "sc3 = StandardScaler()\n",
    "est3 = sc.fit_transform(X3)\n",
    "est3 = pd.DataFrame(est3)\n",
    "\n",
    "Y_procesado3 = np.array(Y3).T\n",
    "Y_procesado3 = Y_procesado3.reshape(48,1)\n",
    "X_procesado3 = np.array(est3)\n",
    "\n",
    "m3,n3 = X_procesado3.shape\n",
    "x_train3, x_test3 = train_test_split(X_procesado3, test_size=0.33)\n",
    "y_train3, y_test3 = train_test_split(Y_procesado3, test_size=0.33)\n",
    "\n",
    "theta_03 = np.random.rand(n3, 1).T"
   ]
  },
  {
   "cell_type": "code",
   "execution_count": 45,
   "id": "reasonable-riding",
   "metadata": {},
   "outputs": [],
   "source": [
    "c3, t3 = gradient_descent(x_train3, y_train3, theta_03, learning_rate = 0.00001, max_iter = 1000)"
   ]
  },
  {
   "cell_type": "code",
   "execution_count": 46,
   "id": "stainless-storage",
   "metadata": {},
   "outputs": [
    {
     "name": "stdout",
     "output_type": "stream",
     "text": [
      "24.585881746473916\n"
     ]
    }
   ],
   "source": [
    "print(min(c3))"
   ]
  },
  {
   "cell_type": "code",
   "execution_count": 47,
   "id": "explicit-ability",
   "metadata": {},
   "outputs": [
    {
     "data": {
      "image/png": "[encoded data removed]",
      "text/plain": [
       "<Figure size 576x288 with 1 Axes>"
      ]
     },
     "metadata": {
      "needs_background": "light"
     },
     "output_type": "display_data"
    }
   ],
   "source": [
    "fig,ax = plt.subplots(figsize=(8,4))\n",
    "_=ax.plot(range(1001),c3,'b.')"
   ]
  },
  {
   "cell_type": "code",
   "execution_count": 40,
   "id": "analyzed-contrast",
   "metadata": {},
   "outputs": [
    {
     "data": {
      "image/png": "[encoded data removed]",
      "text/plain": [
       "<Figure size 432x288 with 1 Axes>"
      ]
     },
     "metadata": {
      "needs_background": "light"
     },
     "output_type": "display_data"
    }
   ],
   "source": [
    "pred3 = hyp(x_test3,t3)\n",
    "plt.figure()\n",
    "plt.scatter(x=x_train3[:,2],y= y_train3)          \n",
    "plt.scatter(x=x_test3[:,2], y=pred3)\n",
    "plt.show()"
   ]
  },
  {
   "cell_type": "markdown",
   "id": "differential-musician",
   "metadata": {},
   "source": [
    "## ANALISIS RESULTADOS\n",
    "\n",
    "Aunque los graficos de gradient descent convergieron demasiado pronto, era la mejor forma de observar el comportamiento, ya que al reducir las iteraciones se perdia la caida y quedaba como una recta, por ende solo se busco el minimo de los resultados que realmente es lo que se buscaba.\n",
    "\n",
    "Los modelos para las 3 clases obtuvieron resultados bastante similares, aunque el de la clase 2 se considera el mejor. Puesto que logro el menor resultado del decenso del gradiente y la nube de datos se ve mas centralizada. \n",
    "\n",
    "La nube de datos con el comportamiento mas similar a una funcion logistica fue el que contaba con las tres caracteristicas, aunque por tener tres lineas se podria suponer que es una de cada clase. \n",
    "\n",
    "Aunque fue bastante complejo lograr un modelo que funcionara realmente, se considera que este es el mejor debido a su capacidad de predecir los resultados y al comportamiento tanto en las nubes de datos como en el decenso del gradiente."
   ]
  }
 ],
 "metadata": {
  "colab": {
   "name": "Lab4.ipynb",
   "provenance": []
  },
  "kernelspec": {
   "display_name": "Python 3",
   "language": "python",
   "name": "python3"
  },
  "language_info": {
   "codemirror_mode": {
    "name": "ipython",
    "version": 3
   },
   "file_extension": ".py",
   "mimetype": "text/x-python",
   "name": "python",
   "nbconvert_exporter": "python",
   "pygments_lexer": "ipython3",
   "version": "3.7.4"
  }
 },
 "nbformat": 4,
 "nbformat_minor": 5
}
