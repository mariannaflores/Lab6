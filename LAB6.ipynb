{
 "cells": [
  {
   "cell_type": "markdown",
   "id": "continuing-olive",
   "metadata": {},
   "source": [
    "### LABORATORIO 6"
   ]
  },
  {
   "cell_type": "code",
   "execution_count": 1,
   "id": "suffering-indicator",
   "metadata": {},
   "outputs": [],
   "source": [
    "import pandas as pd\n",
    "import numpy as np\n",
    "from typing import List, Callable, Any\n",
    "from sklearn.model_selection import train_test_split\n",
    "from sklearn.preprocessing import StandardScaler\n",
    "import scipy.optimize as opt\n",
    "import matplotlib.pyplot as plt\n",
    "%matplotlib inline\n",
    "\n",
    "import warnings\n",
    "warnings.filterwarnings('ignore')"
   ]
  },
  {
   "cell_type": "markdown",
   "id": "supported-chorus",
   "metadata": {},
   "source": [
    "### UPLOAD Y SEPARACION DE DATA"
   ]
  },
  {
   "cell_type": "code",
   "execution_count": 2,
   "id": "young-blogger",
   "metadata": {},
   "outputs": [
    {
     "name": "stdout",
     "output_type": "stream",
     "text": [
      "<class 'pandas.core.frame.DataFrame'> (178, 14)\n"
     ]
    }
   ],
   "source": [
    "x = pd.read_csv('/Users/maria/OneDrive/Documentos/mle_laboratorios/Lab6/Lab6/wine_data.csv',\n",
    "                names=[\"1\", \"2\", \"3\", \"4\",\"5\", \"6\", \"7\", \"8\",\"9\", \"10\", \"11\", \"12\", \"13\",\"14\"])\n",
    "\n",
    "print(type(x), x.shape)"
   ]
  },
  {
   "cell_type": "code",
   "execution_count": 3,
   "id": "daily-payment",
   "metadata": {},
   "outputs": [
    {
     "data": {
      "text/html": [
       "<div>\n",
       "<style scoped>\n",
       "    .dataframe tbody tr th:only-of-type {\n",
       "        vertical-align: middle;\n",
       "    }\n",
       "\n",
       "    .dataframe tbody tr th {\n",
       "        vertical-align: top;\n",
       "    }\n",
       "\n",
       "    .dataframe thead th {\n",
       "        text-align: right;\n",
       "    }\n",
       "</style>\n",
       "<table border=\"1\" class=\"dataframe\">\n",
       "  <thead>\n",
       "    <tr style=\"text-align: right;\">\n",
       "      <th></th>\n",
       "      <th>1</th>\n",
       "      <th>2</th>\n",
       "      <th>3</th>\n",
       "      <th>4</th>\n",
       "      <th>5</th>\n",
       "      <th>6</th>\n",
       "      <th>7</th>\n",
       "      <th>8</th>\n",
       "      <th>9</th>\n",
       "      <th>10</th>\n",
       "      <th>11</th>\n",
       "      <th>12</th>\n",
       "      <th>13</th>\n",
       "      <th>14</th>\n",
       "    </tr>\n",
       "  </thead>\n",
       "  <tbody>\n",
       "    <tr>\n",
       "      <th>count</th>\n",
       "      <td>178.000000</td>\n",
       "      <td>178.000000</td>\n",
       "      <td>178.000000</td>\n",
       "      <td>178.000000</td>\n",
       "      <td>178.000000</td>\n",
       "      <td>178.000000</td>\n",
       "      <td>178.000000</td>\n",
       "      <td>178.000000</td>\n",
       "      <td>178.000000</td>\n",
       "      <td>178.000000</td>\n",
       "      <td>178.000000</td>\n",
       "      <td>178.000000</td>\n",
       "      <td>178.000000</td>\n",
       "      <td>178.000000</td>\n",
       "    </tr>\n",
       "    <tr>\n",
       "      <th>mean</th>\n",
       "      <td>1.938202</td>\n",
       "      <td>13.000618</td>\n",
       "      <td>2.336348</td>\n",
       "      <td>2.366517</td>\n",
       "      <td>19.494944</td>\n",
       "      <td>99.741573</td>\n",
       "      <td>2.295112</td>\n",
       "      <td>2.029270</td>\n",
       "      <td>0.361854</td>\n",
       "      <td>1.590899</td>\n",
       "      <td>5.058090</td>\n",
       "      <td>0.957449</td>\n",
       "      <td>2.611685</td>\n",
       "      <td>746.893258</td>\n",
       "    </tr>\n",
       "    <tr>\n",
       "      <th>std</th>\n",
       "      <td>0.775035</td>\n",
       "      <td>0.811827</td>\n",
       "      <td>1.117146</td>\n",
       "      <td>0.274344</td>\n",
       "      <td>3.339564</td>\n",
       "      <td>14.282484</td>\n",
       "      <td>0.625851</td>\n",
       "      <td>0.998859</td>\n",
       "      <td>0.124453</td>\n",
       "      <td>0.572359</td>\n",
       "      <td>2.318286</td>\n",
       "      <td>0.228572</td>\n",
       "      <td>0.709990</td>\n",
       "      <td>314.907474</td>\n",
       "    </tr>\n",
       "    <tr>\n",
       "      <th>min</th>\n",
       "      <td>1.000000</td>\n",
       "      <td>11.030000</td>\n",
       "      <td>0.740000</td>\n",
       "      <td>1.360000</td>\n",
       "      <td>10.600000</td>\n",
       "      <td>70.000000</td>\n",
       "      <td>0.980000</td>\n",
       "      <td>0.340000</td>\n",
       "      <td>0.130000</td>\n",
       "      <td>0.410000</td>\n",
       "      <td>1.280000</td>\n",
       "      <td>0.480000</td>\n",
       "      <td>1.270000</td>\n",
       "      <td>278.000000</td>\n",
       "    </tr>\n",
       "    <tr>\n",
       "      <th>25%</th>\n",
       "      <td>1.000000</td>\n",
       "      <td>12.362500</td>\n",
       "      <td>1.602500</td>\n",
       "      <td>2.210000</td>\n",
       "      <td>17.200000</td>\n",
       "      <td>88.000000</td>\n",
       "      <td>1.742500</td>\n",
       "      <td>1.205000</td>\n",
       "      <td>0.270000</td>\n",
       "      <td>1.250000</td>\n",
       "      <td>3.220000</td>\n",
       "      <td>0.782500</td>\n",
       "      <td>1.937500</td>\n",
       "      <td>500.500000</td>\n",
       "    </tr>\n",
       "    <tr>\n",
       "      <th>50%</th>\n",
       "      <td>2.000000</td>\n",
       "      <td>13.050000</td>\n",
       "      <td>1.865000</td>\n",
       "      <td>2.360000</td>\n",
       "      <td>19.500000</td>\n",
       "      <td>98.000000</td>\n",
       "      <td>2.355000</td>\n",
       "      <td>2.135000</td>\n",
       "      <td>0.340000</td>\n",
       "      <td>1.555000</td>\n",
       "      <td>4.690000</td>\n",
       "      <td>0.965000</td>\n",
       "      <td>2.780000</td>\n",
       "      <td>673.500000</td>\n",
       "    </tr>\n",
       "    <tr>\n",
       "      <th>75%</th>\n",
       "      <td>3.000000</td>\n",
       "      <td>13.677500</td>\n",
       "      <td>3.082500</td>\n",
       "      <td>2.557500</td>\n",
       "      <td>21.500000</td>\n",
       "      <td>107.000000</td>\n",
       "      <td>2.800000</td>\n",
       "      <td>2.875000</td>\n",
       "      <td>0.437500</td>\n",
       "      <td>1.950000</td>\n",
       "      <td>6.200000</td>\n",
       "      <td>1.120000</td>\n",
       "      <td>3.170000</td>\n",
       "      <td>985.000000</td>\n",
       "    </tr>\n",
       "    <tr>\n",
       "      <th>max</th>\n",
       "      <td>3.000000</td>\n",
       "      <td>14.830000</td>\n",
       "      <td>5.800000</td>\n",
       "      <td>3.230000</td>\n",
       "      <td>30.000000</td>\n",
       "      <td>162.000000</td>\n",
       "      <td>3.880000</td>\n",
       "      <td>5.080000</td>\n",
       "      <td>0.660000</td>\n",
       "      <td>3.580000</td>\n",
       "      <td>13.000000</td>\n",
       "      <td>1.710000</td>\n",
       "      <td>4.000000</td>\n",
       "      <td>1680.000000</td>\n",
       "    </tr>\n",
       "  </tbody>\n",
       "</table>\n",
       "</div>"
      ],
      "text/plain": [
       "                1           2           3           4           5           6  \\\n",
       "count  178.000000  178.000000  178.000000  178.000000  178.000000  178.000000   \n",
       "mean     1.938202   13.000618    2.336348    2.366517   19.494944   99.741573   \n",
       "std      0.775035    0.811827    1.117146    0.274344    3.339564   14.282484   \n",
       "min      1.000000   11.030000    0.740000    1.360000   10.600000   70.000000   \n",
       "25%      1.000000   12.362500    1.602500    2.210000   17.200000   88.000000   \n",
       "50%      2.000000   13.050000    1.865000    2.360000   19.500000   98.000000   \n",
       "75%      3.000000   13.677500    3.082500    2.557500   21.500000  107.000000   \n",
       "max      3.000000   14.830000    5.800000    3.230000   30.000000  162.000000   \n",
       "\n",
       "                7           8           9          10          11          12  \\\n",
       "count  178.000000  178.000000  178.000000  178.000000  178.000000  178.000000   \n",
       "mean     2.295112    2.029270    0.361854    1.590899    5.058090    0.957449   \n",
       "std      0.625851    0.998859    0.124453    0.572359    2.318286    0.228572   \n",
       "min      0.980000    0.340000    0.130000    0.410000    1.280000    0.480000   \n",
       "25%      1.742500    1.205000    0.270000    1.250000    3.220000    0.782500   \n",
       "50%      2.355000    2.135000    0.340000    1.555000    4.690000    0.965000   \n",
       "75%      2.800000    2.875000    0.437500    1.950000    6.200000    1.120000   \n",
       "max      3.880000    5.080000    0.660000    3.580000   13.000000    1.710000   \n",
       "\n",
       "               13           14  \n",
       "count  178.000000   178.000000  \n",
       "mean     2.611685   746.893258  \n",
       "std      0.709990   314.907474  \n",
       "min      1.270000   278.000000  \n",
       "25%      1.937500   500.500000  \n",
       "50%      2.780000   673.500000  \n",
       "75%      3.170000   985.000000  \n",
       "max      4.000000  1680.000000  "
      ]
     },
     "execution_count": 3,
     "metadata": {},
     "output_type": "execute_result"
    }
   ],
   "source": [
    "x.describe()"
   ]
  },
  {
   "cell_type": "code",
   "execution_count": 4,
   "id": "brown-applicant",
   "metadata": {},
   "outputs": [
    {
     "data": {
      "image/png": "[encoded data removed]",
      "text/plain": [
       "<Figure size 432x288 with 1 Axes>"
      ]
     },
     "metadata": {
      "needs_background": "light"
     },
     "output_type": "display_data"
    }
   ],
   "source": [
    "#visualizacion datos de cada tipo de vino\n",
    "x.groupby('1')['1'].hist(bins=3)\n",
    "plt.show()"
   ]
  },
  {
   "cell_type": "code",
   "execution_count": 5,
   "id": "individual-archive",
   "metadata": {},
   "outputs": [
    {
     "name": "stdout",
     "output_type": "stream",
     "text": [
      "(178, 13) (178,)\n"
     ]
    }
   ],
   "source": [
    "#Separacion de dataset en variable dependiente e independientes\n",
    "Y = x['1']\n",
    "X = x.iloc[:, [1,2,3,4,5,6,7,8,9,10,11,12,13]]\n",
    "print(X.shape, Y.shape)"
   ]
  },
  {
   "cell_type": "code",
   "execution_count": 6,
   "id": "controlling-reconstruction",
   "metadata": {},
   "outputs": [
    {
     "data": {
      "text/html": [
       "<div>\n",
       "<style scoped>\n",
       "    .dataframe tbody tr th:only-of-type {\n",
       "        vertical-align: middle;\n",
       "    }\n",
       "\n",
       "    .dataframe tbody tr th {\n",
       "        vertical-align: top;\n",
       "    }\n",
       "\n",
       "    .dataframe thead th {\n",
       "        text-align: right;\n",
       "    }\n",
       "</style>\n",
       "<table border=\"1\" class=\"dataframe\">\n",
       "  <thead>\n",
       "    <tr style=\"text-align: right;\">\n",
       "      <th></th>\n",
       "      <th>2</th>\n",
       "      <th>3</th>\n",
       "      <th>4</th>\n",
       "      <th>5</th>\n",
       "      <th>6</th>\n",
       "      <th>7</th>\n",
       "      <th>8</th>\n",
       "      <th>9</th>\n",
       "      <th>10</th>\n",
       "      <th>11</th>\n",
       "      <th>12</th>\n",
       "      <th>13</th>\n",
       "      <th>14</th>\n",
       "    </tr>\n",
       "  </thead>\n",
       "  <tbody>\n",
       "    <tr>\n",
       "      <th>0</th>\n",
       "      <td>14.23</td>\n",
       "      <td>1.71</td>\n",
       "      <td>2.43</td>\n",
       "      <td>15.6</td>\n",
       "      <td>127</td>\n",
       "      <td>2.80</td>\n",
       "      <td>3.06</td>\n",
       "      <td>0.28</td>\n",
       "      <td>2.29</td>\n",
       "      <td>5.64</td>\n",
       "      <td>1.04</td>\n",
       "      <td>3.92</td>\n",
       "      <td>1065</td>\n",
       "    </tr>\n",
       "    <tr>\n",
       "      <th>1</th>\n",
       "      <td>13.20</td>\n",
       "      <td>1.78</td>\n",
       "      <td>2.14</td>\n",
       "      <td>11.2</td>\n",
       "      <td>100</td>\n",
       "      <td>2.65</td>\n",
       "      <td>2.76</td>\n",
       "      <td>0.26</td>\n",
       "      <td>1.28</td>\n",
       "      <td>4.38</td>\n",
       "      <td>1.05</td>\n",
       "      <td>3.40</td>\n",
       "      <td>1050</td>\n",
       "    </tr>\n",
       "    <tr>\n",
       "      <th>2</th>\n",
       "      <td>13.16</td>\n",
       "      <td>2.36</td>\n",
       "      <td>2.67</td>\n",
       "      <td>18.6</td>\n",
       "      <td>101</td>\n",
       "      <td>2.80</td>\n",
       "      <td>3.24</td>\n",
       "      <td>0.30</td>\n",
       "      <td>2.81</td>\n",
       "      <td>5.68</td>\n",
       "      <td>1.03</td>\n",
       "      <td>3.17</td>\n",
       "      <td>1185</td>\n",
       "    </tr>\n",
       "    <tr>\n",
       "      <th>3</th>\n",
       "      <td>14.37</td>\n",
       "      <td>1.95</td>\n",
       "      <td>2.50</td>\n",
       "      <td>16.8</td>\n",
       "      <td>113</td>\n",
       "      <td>3.85</td>\n",
       "      <td>3.49</td>\n",
       "      <td>0.24</td>\n",
       "      <td>2.18</td>\n",
       "      <td>7.80</td>\n",
       "      <td>0.86</td>\n",
       "      <td>3.45</td>\n",
       "      <td>1480</td>\n",
       "    </tr>\n",
       "    <tr>\n",
       "      <th>4</th>\n",
       "      <td>13.24</td>\n",
       "      <td>2.59</td>\n",
       "      <td>2.87</td>\n",
       "      <td>21.0</td>\n",
       "      <td>118</td>\n",
       "      <td>2.80</td>\n",
       "      <td>2.69</td>\n",
       "      <td>0.39</td>\n",
       "      <td>1.82</td>\n",
       "      <td>4.32</td>\n",
       "      <td>1.04</td>\n",
       "      <td>2.93</td>\n",
       "      <td>735</td>\n",
       "    </tr>\n",
       "  </tbody>\n",
       "</table>\n",
       "</div>"
      ],
      "text/plain": [
       "       2     3     4     5    6     7     8     9    10    11    12    13  \\\n",
       "0  14.23  1.71  2.43  15.6  127  2.80  3.06  0.28  2.29  5.64  1.04  3.92   \n",
       "1  13.20  1.78  2.14  11.2  100  2.65  2.76  0.26  1.28  4.38  1.05  3.40   \n",
       "2  13.16  2.36  2.67  18.6  101  2.80  3.24  0.30  2.81  5.68  1.03  3.17   \n",
       "3  14.37  1.95  2.50  16.8  113  3.85  3.49  0.24  2.18  7.80  0.86  3.45   \n",
       "4  13.24  2.59  2.87  21.0  118  2.80  2.69  0.39  1.82  4.32  1.04  2.93   \n",
       "\n",
       "     14  \n",
       "0  1065  \n",
       "1  1050  \n",
       "2  1185  \n",
       "3  1480  \n",
       "4   735  "
      ]
     },
     "execution_count": 6,
     "metadata": {},
     "output_type": "execute_result"
    }
   ],
   "source": [
    "X.head()"
   ]
  },
  {
   "cell_type": "code",
   "execution_count": 7,
   "id": "accurate-animal",
   "metadata": {},
   "outputs": [],
   "source": [
    "sc = StandardScaler()\n",
    "est = sc.fit_transform(X)\n",
    "est = pd.DataFrame(est)"
   ]
  },
  {
   "cell_type": "code",
   "execution_count": 8,
   "id": "documented-cleveland",
   "metadata": {},
   "outputs": [
    {
     "data": {
      "text/html": [
       "<div>\n",
       "<style scoped>\n",
       "    .dataframe tbody tr th:only-of-type {\n",
       "        vertical-align: middle;\n",
       "    }\n",
       "\n",
       "    .dataframe tbody tr th {\n",
       "        vertical-align: top;\n",
       "    }\n",
       "\n",
       "    .dataframe thead th {\n",
       "        text-align: right;\n",
       "    }\n",
       "</style>\n",
       "<table border=\"1\" class=\"dataframe\">\n",
       "  <thead>\n",
       "    <tr style=\"text-align: right;\">\n",
       "      <th></th>\n",
       "      <th>0</th>\n",
       "      <th>1</th>\n",
       "      <th>2</th>\n",
       "      <th>3</th>\n",
       "      <th>4</th>\n",
       "      <th>5</th>\n",
       "      <th>6</th>\n",
       "      <th>7</th>\n",
       "      <th>8</th>\n",
       "      <th>9</th>\n",
       "      <th>10</th>\n",
       "      <th>11</th>\n",
       "      <th>12</th>\n",
       "    </tr>\n",
       "  </thead>\n",
       "  <tbody>\n",
       "    <tr>\n",
       "      <th>0</th>\n",
       "      <td>1.518613</td>\n",
       "      <td>-0.562250</td>\n",
       "      <td>0.232053</td>\n",
       "      <td>-1.169593</td>\n",
       "      <td>1.913905</td>\n",
       "      <td>0.808997</td>\n",
       "      <td>1.034819</td>\n",
       "      <td>-0.659563</td>\n",
       "      <td>1.224884</td>\n",
       "      <td>0.251717</td>\n",
       "      <td>0.362177</td>\n",
       "      <td>1.847920</td>\n",
       "      <td>1.013009</td>\n",
       "    </tr>\n",
       "    <tr>\n",
       "      <th>1</th>\n",
       "      <td>0.246290</td>\n",
       "      <td>-0.499413</td>\n",
       "      <td>-0.827996</td>\n",
       "      <td>-2.490847</td>\n",
       "      <td>0.018145</td>\n",
       "      <td>0.568648</td>\n",
       "      <td>0.733629</td>\n",
       "      <td>-0.820719</td>\n",
       "      <td>-0.544721</td>\n",
       "      <td>-0.293321</td>\n",
       "      <td>0.406051</td>\n",
       "      <td>1.113449</td>\n",
       "      <td>0.965242</td>\n",
       "    </tr>\n",
       "    <tr>\n",
       "      <th>2</th>\n",
       "      <td>0.196879</td>\n",
       "      <td>0.021231</td>\n",
       "      <td>1.109334</td>\n",
       "      <td>-0.268738</td>\n",
       "      <td>0.088358</td>\n",
       "      <td>0.808997</td>\n",
       "      <td>1.215533</td>\n",
       "      <td>-0.498407</td>\n",
       "      <td>2.135968</td>\n",
       "      <td>0.269020</td>\n",
       "      <td>0.318304</td>\n",
       "      <td>0.788587</td>\n",
       "      <td>1.395148</td>\n",
       "    </tr>\n",
       "    <tr>\n",
       "      <th>3</th>\n",
       "      <td>1.691550</td>\n",
       "      <td>-0.346811</td>\n",
       "      <td>0.487926</td>\n",
       "      <td>-0.809251</td>\n",
       "      <td>0.930918</td>\n",
       "      <td>2.491446</td>\n",
       "      <td>1.466525</td>\n",
       "      <td>-0.981875</td>\n",
       "      <td>1.032155</td>\n",
       "      <td>1.186068</td>\n",
       "      <td>-0.427544</td>\n",
       "      <td>1.184071</td>\n",
       "      <td>2.334574</td>\n",
       "    </tr>\n",
       "    <tr>\n",
       "      <th>4</th>\n",
       "      <td>0.295700</td>\n",
       "      <td>0.227694</td>\n",
       "      <td>1.840403</td>\n",
       "      <td>0.451946</td>\n",
       "      <td>1.281985</td>\n",
       "      <td>0.808997</td>\n",
       "      <td>0.663351</td>\n",
       "      <td>0.226796</td>\n",
       "      <td>0.401404</td>\n",
       "      <td>-0.319276</td>\n",
       "      <td>0.362177</td>\n",
       "      <td>0.449601</td>\n",
       "      <td>-0.037874</td>\n",
       "    </tr>\n",
       "  </tbody>\n",
       "</table>\n",
       "</div>"
      ],
      "text/plain": [
       "         0         1         2         3         4         5         6   \\\n",
       "0  1.518613 -0.562250  0.232053 -1.169593  1.913905  0.808997  1.034819   \n",
       "1  0.246290 -0.499413 -0.827996 -2.490847  0.018145  0.568648  0.733629   \n",
       "2  0.196879  0.021231  1.109334 -0.268738  0.088358  0.808997  1.215533   \n",
       "3  1.691550 -0.346811  0.487926 -0.809251  0.930918  2.491446  1.466525   \n",
       "4  0.295700  0.227694  1.840403  0.451946  1.281985  0.808997  0.663351   \n",
       "\n",
       "         7         8         9         10        11        12  \n",
       "0 -0.659563  1.224884  0.251717  0.362177  1.847920  1.013009  \n",
       "1 -0.820719 -0.544721 -0.293321  0.406051  1.113449  0.965242  \n",
       "2 -0.498407  2.135968  0.269020  0.318304  0.788587  1.395148  \n",
       "3 -0.981875  1.032155  1.186068 -0.427544  1.184071  2.334574  \n",
       "4  0.226796  0.401404 -0.319276  0.362177  0.449601 -0.037874  "
      ]
     },
     "execution_count": 8,
     "metadata": {},
     "output_type": "execute_result"
    }
   ],
   "source": [
    "est.head()"
   ]
  },
  {
   "cell_type": "code",
   "execution_count": 9,
   "id": "boring-light",
   "metadata": {},
   "outputs": [
    {
     "name": "stdout",
     "output_type": "stream",
     "text": [
      "<class 'pandas.core.frame.DataFrame'> (178, 14)\n"
     ]
    }
   ],
   "source": [
    "est = pd.concat([pd.Series(1, index = est.index, name = '13'), est], axis=1)\n",
    "print(type(est), est.shape)"
   ]
  },
  {
   "cell_type": "code",
   "execution_count": 10,
   "id": "sustained-guitar",
   "metadata": {},
   "outputs": [
    {
     "name": "stdout",
     "output_type": "stream",
     "text": [
      "(178, 14) (178, 1)\n"
     ]
    }
   ],
   "source": [
    "Y_procesado = np.array(Y)\n",
    "Y_procesado = Y_procesado.reshape(178,1)\n",
    "X_procesado = np.array(est)\n",
    "\n",
    "m,n = X_procesado.shape\n",
    "print(X_procesado.shape, Y_procesado.shape)"
   ]
  },
  {
   "cell_type": "code",
   "execution_count": 11,
   "id": "naked-verification",
   "metadata": {},
   "outputs": [],
   "source": [
    "x_train, x_test = train_test_split(X_procesado, test_size=0.33)\n",
    "y_train, y_test = train_test_split(Y_procesado, test_size=0.33)"
   ]
  },
  {
   "cell_type": "code",
   "execution_count": 12,
   "id": "traditional-mauritius",
   "metadata": {},
   "outputs": [
    {
     "data": {
      "text/plain": [
       "(14, 1)"
      ]
     },
     "execution_count": 12,
     "metadata": {},
     "output_type": "execute_result"
    }
   ],
   "source": [
    "theta_0 = np.random.rand(n, 1)\n",
    "theta_0.shape"
   ]
  },
  {
   "cell_type": "markdown",
   "id": "through-citizen",
   "metadata": {},
   "source": [
    "### FUNCIONES"
   ]
  },
  {
   "cell_type": "code",
   "execution_count": 13,
   "id": "anonymous-bacon",
   "metadata": {},
   "outputs": [],
   "source": [
    "sigmoid = lambda z: 1.0 / (1 + np.exp(-z))"
   ]
  },
  {
   "cell_type": "code",
   "execution_count": 14,
   "id": "satellite-bible",
   "metadata": {},
   "outputs": [],
   "source": [
    "def linear_cost(X, y, theta, lmbd):\n",
    "    h = sigmoid(X @ theta)\n",
    "    reg = (lmbd / (2 * len(X))) * (theta[1:] ** 2).sum()\n",
    "    return ((h - y) ** 2).sum() / (2 * len(X)) + reg"
   ]
  },
  {
   "cell_type": "code",
   "execution_count": 15,
   "id": "optimum-stand",
   "metadata": {},
   "outputs": [],
   "source": [
    "def linear_cost_gradient(X, y, theta, lmbd):\n",
    "    h = sigmoid(X @ theta)\n",
    "    theta_copy = theta.copy()\n",
    "    theta_copy[0] = 0\n",
    "    reg_prime = lmbd * theta_copy / len(X)\n",
    "    return ((X.T @ (h - y)) / len(X)) + reg_prime"
   ]
  },
  {
   "cell_type": "code",
   "execution_count": 16,
   "id": "developmental-congress",
   "metadata": {},
   "outputs": [],
   "source": [
    "def gradient_descent(\n",
    "    X, \n",
    "    y,\n",
    "    theta_0,\n",
    "    cost_function, \n",
    "    cost_function_gradient,\n",
    "    lmbd, \n",
    "    learning_rate = 0.01, \n",
    "    threshold = 0.001, \n",
    "    max_iter = 10000\n",
    "):\n",
    "    theta = theta_0\n",
    "    iteration = 0\n",
    "    costs = []\n",
    "    thetas = []\n",
    "\n",
    "    while np.linalg.norm(cost_function_gradient(X, y, theta, lmbd)) > threshold and iteration < max_iter: \n",
    "        iteration = iteration + 1\n",
    "        theta = theta - (learning_rate * cost_function_gradient(X, y, theta, lmbd))\n",
    "        costs.append(cost_function(X, y, theta, lmbd))\n",
    "        thetas.append(theta.copy())\n",
    "    \n",
    "    return(theta, costs, thetas)"
   ]
  },
  {
   "cell_type": "markdown",
   "id": "cordless-jackson",
   "metadata": {},
   "source": [
    "### TEST FUNCIONES"
   ]
  },
  {
   "cell_type": "code",
   "execution_count": 17,
   "id": "subsequent-context",
   "metadata": {},
   "outputs": [],
   "source": [
    "t, c, ts = gradient_descent(\n",
    "    x_train, \n",
    "    y_train,\n",
    "    theta_0,\n",
    "    linear_cost, \n",
    "    linear_cost_gradient, \n",
    "    lmbd = 10,\n",
    "    learning_rate = 0.001, \n",
    "    threshold = 0.1, \n",
    "    max_iter = 10000\n",
    ")"
   ]
  },
  {
   "cell_type": "code",
   "execution_count": 18,
   "id": "known-japan",
   "metadata": {},
   "outputs": [
    {
     "data": {
      "image/png": "[encoded data removed]",
      "text/plain": [
       "<Figure size 576x288 with 1 Axes>"
      ]
     },
     "metadata": {
      "needs_background": "light"
     },
     "output_type": "display_data"
    }
   ],
   "source": [
    "fig,ax = plt.subplots(figsize=(8,4))\n",
    "_=ax.plot(range(10000),c,'b.')"
   ]
  },
  {
   "cell_type": "code",
   "execution_count": 19,
   "id": "moderate-forge",
   "metadata": {},
   "outputs": [
    {
     "data": {
      "image/png": "[encoded data removed]",
      "text/plain": [
       "<Figure size 432x288 with 1 Axes>"
      ]
     },
     "metadata": {
      "needs_background": "light"
     },
     "output_type": "display_data"
    }
   ],
   "source": [
    "pred = sigmoid(x_test @ theta_0)\n",
    "plt.figure()\n",
    "plt.scatter(x=x_train[:,1],y= y_train)          \n",
    "plt.scatter(x=x_test[:,1], y=pred)\n",
    "plt.show()"
   ]
  },
  {
   "cell_type": "markdown",
   "id": "french-consortium",
   "metadata": {},
   "source": [
    "### SUBSPLIT TIPO DE VINO "
   ]
  },
  {
   "cell_type": "code",
   "execution_count": 20,
   "id": "engaged-prototype",
   "metadata": {},
   "outputs": [
    {
     "name": "stdout",
     "output_type": "stream",
     "text": [
      "59 71 48\n"
     ]
    }
   ],
   "source": [
    "Y0 = (Y_procesado == 1) * 1\n",
    "Y1 = (Y_procesado == 2) * 1\n",
    "Y2 = (Y_procesado == 3) * 1\n",
    "print(Y0.sum(), Y1.sum(), Y2.sum())"
   ]
  },
  {
   "cell_type": "markdown",
   "id": "intellectual-sessions",
   "metadata": {},
   "source": [
    "### GRADO 1\n",
    "#### CATEGORIA 1"
   ]
  },
  {
   "cell_type": "code",
   "execution_count": 21,
   "id": "apart-domain",
   "metadata": {},
   "outputs": [],
   "source": [
    "y_train0, y_test0 = train_test_split(Y0, test_size=0.33)\n",
    "\n",
    "t0, c0, ts0 = gradient_descent(\n",
    "    x_train, \n",
    "    y_train0,\n",
    "    theta_0,\n",
    "    linear_cost, \n",
    "    linear_cost_gradient, \n",
    "    lmbd = 10,\n",
    "    learning_rate = 0.001, \n",
    "    threshold = 0.1, \n",
    "    max_iter = 10000\n",
    ")"
   ]
  },
  {
   "cell_type": "code",
   "execution_count": 22,
   "id": "empty-couple",
   "metadata": {},
   "outputs": [
    {
     "name": "stdout",
     "output_type": "stream",
     "text": [
      "El minimo del descenso es:  0.13177627968260625\n"
     ]
    }
   ],
   "source": [
    "print(\"El minimo del descenso es: \", min(c0))"
   ]
  },
  {
   "cell_type": "code",
   "execution_count": 24,
   "id": "czech-cleaners",
   "metadata": {},
   "outputs": [
    {
     "data": {
      "image/png": "[encoded data removed]",
      "text/plain": [
       "<Figure size 576x288 with 1 Axes>"
      ]
     },
     "metadata": {
      "needs_background": "light"
     },
     "output_type": "display_data"
    }
   ],
   "source": [
    "fig,ax = plt.subplots(figsize=(8,4))\n",
    "_=ax.plot(range(6398),c0,'b.')"
   ]
  },
  {
   "cell_type": "code",
   "execution_count": 25,
   "id": "ambient-register",
   "metadata": {},
   "outputs": [
    {
     "data": {
      "image/png": "[encoded data removed]",
      "text/plain": [
       "<Figure size 432x288 with 1 Axes>"
      ]
     },
     "metadata": {
      "needs_background": "light"
     },
     "output_type": "display_data"
    }
   ],
   "source": [
    "plt.figure()\n",
    "plt.scatter(x=x_train[:,1],y= y_train0)          \n",
    "plt.scatter(x=x_test[:,1], y=pred)\n",
    "plt.show()"
   ]
  },
  {
   "cell_type": "markdown",
   "id": "corporate-contemporary",
   "metadata": {},
   "source": [
    "#### CATEGORIA 2"
   ]
  },
  {
   "cell_type": "code",
   "execution_count": 26,
   "id": "nervous-graduate",
   "metadata": {},
   "outputs": [],
   "source": [
    "y_train1, y_test1 = train_test_split(Y1, test_size=0.33)\n",
    "\n",
    "t1, c1, ts1 = gradient_descent(\n",
    "    x_train, \n",
    "    y_train1,\n",
    "    theta_0,\n",
    "    linear_cost, \n",
    "    linear_cost_gradient, \n",
    "    lmbd = 10,\n",
    "    learning_rate = 0.001, \n",
    "    threshold = 0.1, \n",
    "    max_iter = 10000\n",
    ")"
   ]
  },
  {
   "cell_type": "code",
   "execution_count": 27,
   "id": "unknown-letters",
   "metadata": {},
   "outputs": [
    {
     "name": "stdout",
     "output_type": "stream",
     "text": [
      "El minimo del descenso es:  0.13268763119237195\n"
     ]
    }
   ],
   "source": [
    "print(\"El minimo del descenso es: \", min(c1))"
   ]
  },
  {
   "cell_type": "code",
   "execution_count": 29,
   "id": "latin-order",
   "metadata": {},
   "outputs": [
    {
     "data": {
      "image/png": "[encoded data removed]",
      "text/plain": [
       "<Figure size 576x288 with 1 Axes>"
      ]
     },
     "metadata": {
      "needs_background": "light"
     },
     "output_type": "display_data"
    }
   ],
   "source": [
    "fig,ax = plt.subplots(figsize=(8,4))\n",
    "_=ax.plot(range(6312),c1,'b.')"
   ]
  },
  {
   "cell_type": "code",
   "execution_count": 30,
   "id": "golden-allen",
   "metadata": {},
   "outputs": [
    {
     "data": {
      "image/png": "[encoded data removed]",
      "text/plain": [
       "<Figure size 432x288 with 1 Axes>"
      ]
     },
     "metadata": {
      "needs_background": "light"
     },
     "output_type": "display_data"
    }
   ],
   "source": [
    "plt.figure()\n",
    "plt.scatter(x=x_train[:,1],y= y_train1)          \n",
    "plt.scatter(x=x_test[:,1], y=pred)\n",
    "plt.show()"
   ]
  },
  {
   "cell_type": "markdown",
   "id": "established-profit",
   "metadata": {},
   "source": [
    "#### CATEGORIA 3"
   ]
  },
  {
   "cell_type": "code",
   "execution_count": 31,
   "id": "institutional-apple",
   "metadata": {},
   "outputs": [],
   "source": [
    "y_train2, y_test2 = train_test_split(Y2, test_size=0.33)\n",
    "\n",
    "t2, c2, ts2 = gradient_descent(\n",
    "    x_train, \n",
    "    y_train2,\n",
    "    theta_0,\n",
    "    linear_cost, \n",
    "    linear_cost_gradient, \n",
    "    lmbd = 10,\n",
    "    learning_rate = 0.001, \n",
    "    threshold = 0.1, \n",
    "    max_iter = 10000\n",
    ")"
   ]
  },
  {
   "cell_type": "code",
   "execution_count": 32,
   "id": "veterinary-aviation",
   "metadata": {},
   "outputs": [
    {
     "name": "stdout",
     "output_type": "stream",
     "text": [
      "El minimo del descenso es:  0.1122919735989955\n"
     ]
    }
   ],
   "source": [
    "print(\"El minimo del descenso es: \", min(c2))"
   ]
  },
  {
   "cell_type": "code",
   "execution_count": 34,
   "id": "wanted-cleaning",
   "metadata": {},
   "outputs": [
    {
     "data": {
      "image/png": "[encoded data removed]",
      "text/plain": [
       "<Figure size 576x288 with 1 Axes>"
      ]
     },
     "metadata": {
      "needs_background": "light"
     },
     "output_type": "display_data"
    }
   ],
   "source": [
    "fig,ax = plt.subplots(figsize=(8,4))\n",
    "_=ax.plot(range(6658),c2,'b.')"
   ]
  },
  {
   "cell_type": "code",
   "execution_count": 35,
   "id": "illegal-soundtrack",
   "metadata": {},
   "outputs": [
    {
     "data": {
      "image/png": "[encoded data removed]",
      "text/plain": [
       "<Figure size 432x288 with 1 Axes>"
      ]
     },
     "metadata": {
      "needs_background": "light"
     },
     "output_type": "display_data"
    }
   ],
   "source": [
    "plt.figure()\n",
    "plt.scatter(x=x_train[:,1],y= y_train2)          \n",
    "plt.scatter(x=x_test[:,1], y=pred)\n",
    "plt.show()"
   ]
  },
  {
   "cell_type": "markdown",
   "id": "educational-virus",
   "metadata": {},
   "source": [
    "### MODELO GRADO 2"
   ]
  },
  {
   "cell_type": "code",
   "execution_count": 36,
   "id": "catholic-johnson",
   "metadata": {},
   "outputs": [],
   "source": [
    "X2 = X_procesado ** 2\n",
    "x_train2, x_test2 = train_test_split(X2, test_size=0.33)\n",
    "\n",
    "t02, c02, ts02 = gradient_descent(\n",
    "    x_train2, \n",
    "    y_train0,\n",
    "    theta_0,\n",
    "    linear_cost, \n",
    "    linear_cost_gradient, \n",
    "    lmbd = 10,\n",
    "    learning_rate = 0.01, \n",
    "    threshold = 0.1, \n",
    "    max_iter = 1000\n",
    ")"
   ]
  },
  {
   "cell_type": "code",
   "execution_count": 37,
   "id": "combined-membership",
   "metadata": {},
   "outputs": [
    {
     "name": "stdout",
     "output_type": "stream",
     "text": [
      "El minimo del descenso es:  0.12132101334826169\n"
     ]
    }
   ],
   "source": [
    "print(\"El minimo del descenso es: \", min(c02))"
   ]
  },
  {
   "cell_type": "code",
   "execution_count": 39,
   "id": "southern-contamination",
   "metadata": {},
   "outputs": [
    {
     "data": {
      "image/png": "[encoded data removed]",
      "text/plain": [
       "<Figure size 576x288 with 1 Axes>"
      ]
     },
     "metadata": {
      "needs_background": "light"
     },
     "output_type": "display_data"
    }
   ],
   "source": [
    "fig,ax = plt.subplots(figsize=(8,4))\n",
    "_=ax.plot(range(388),c02,'b.')"
   ]
  },
  {
   "cell_type": "code",
   "execution_count": 40,
   "id": "experienced-avatar",
   "metadata": {},
   "outputs": [
    {
     "data": {
      "image/png": "[encoded data removed]",
      "text/plain": [
       "<Figure size 432x288 with 1 Axes>"
      ]
     },
     "metadata": {
      "needs_background": "light"
     },
     "output_type": "display_data"
    }
   ],
   "source": [
    "pred2 = sigmoid(x_test2 @ theta_0)\n",
    "\n",
    "plt.figure()\n",
    "plt.scatter(x=x_train2[:,1],y= y_train0)          \n",
    "plt.scatter(x=x_test2[:,1], y=pred2)\n",
    "plt.show()"
   ]
  },
  {
   "cell_type": "markdown",
   "id": "worth-leonard",
   "metadata": {},
   "source": [
    "### MODELO GRADO 3\n",
    "#### CATEGORIA 1"
   ]
  },
  {
   "cell_type": "code",
   "execution_count": 41,
   "id": "white-running",
   "metadata": {},
   "outputs": [],
   "source": [
    "X3 = X_procesado ** 3\n",
    "x_train3, x_test3 = train_test_split(X3, test_size=0.33)\n",
    "\n",
    "t03, c03, ts03 = gradient_descent(\n",
    "    x_train3, \n",
    "    y_train0,\n",
    "    theta_0,\n",
    "    linear_cost, \n",
    "    linear_cost_gradient, \n",
    "    lmbd = 10,\n",
    "    learning_rate = 0.01, \n",
    "    threshold = 0.1, \n",
    "    max_iter = 1000\n",
    ")"
   ]
  },
  {
   "cell_type": "code",
   "execution_count": 42,
   "id": "designed-helena",
   "metadata": {},
   "outputs": [
    {
     "name": "stdout",
     "output_type": "stream",
     "text": [
      "El minimo del descenso es:  0.11736662469653954\n"
     ]
    }
   ],
   "source": [
    "print(\"El minimo del descenso es: \", min(c03))"
   ]
  },
  {
   "cell_type": "code",
   "execution_count": 44,
   "id": "coral-absolute",
   "metadata": {},
   "outputs": [
    {
     "data": {
      "image/png": "[encoded data removed]",
      "text/plain": [
       "<Figure size 576x288 with 1 Axes>"
      ]
     },
     "metadata": {
      "needs_background": "light"
     },
     "output_type": "display_data"
    }
   ],
   "source": [
    "fig,ax = plt.subplots(figsize=(8,4))\n",
    "_=ax.plot(range(398),c03,'b.')"
   ]
  },
  {
   "cell_type": "code",
   "execution_count": 45,
   "id": "driven-administrator",
   "metadata": {},
   "outputs": [
    {
     "data": {
      "image/png": "[encoded data removed]",
      "text/plain": [
       "<Figure size 432x288 with 1 Axes>"
      ]
     },
     "metadata": {
      "needs_background": "light"
     },
     "output_type": "display_data"
    }
   ],
   "source": [
    "pred3 = sigmoid(x_test3 @ theta_0)\n",
    "\n",
    "plt.figure()\n",
    "plt.scatter(x=x_train3[:,1],y= y_train0)          \n",
    "plt.scatter(x=x_test3[:,1], y=pred3)\n",
    "plt.show()"
   ]
  },
  {
   "cell_type": "markdown",
   "id": "treated-senior",
   "metadata": {},
   "source": [
    "#### CATEGORIA 2"
   ]
  },
  {
   "cell_type": "code",
   "execution_count": 46,
   "id": "motivated-petersburg",
   "metadata": {},
   "outputs": [
    {
     "name": "stdout",
     "output_type": "stream",
     "text": [
      "El minimo del descenso es:  0.11548139069321785\n"
     ]
    }
   ],
   "source": [
    "t13, c13, ts13 = gradient_descent(\n",
    "    x_train3, \n",
    "    y_train1,\n",
    "    theta_0,\n",
    "    linear_cost, \n",
    "    linear_cost_gradient, \n",
    "    lmbd = 10,\n",
    "    learning_rate = 0.01, \n",
    "    threshold = 0.1, \n",
    "    max_iter = 1000\n",
    ")\n",
    "\n",
    "print(\"El minimo del descenso es: \", min(c13))"
   ]
  },
  {
   "cell_type": "code",
   "execution_count": 47,
   "id": "alternative-helmet",
   "metadata": {},
   "outputs": [
    {
     "data": {
      "image/png": "[encoded data removed]",
      "text/plain": [
       "<Figure size 432x288 with 1 Axes>"
      ]
     },
     "metadata": {
      "needs_background": "light"
     },
     "output_type": "display_data"
    }
   ],
   "source": [
    "plt.figure()\n",
    "plt.scatter(x=x_train3[:,1],y= y_train1)          \n",
    "plt.scatter(x=x_test3[:,1], y=pred3)\n",
    "plt.show()"
   ]
  },
  {
   "cell_type": "markdown",
   "id": "magnetic-danger",
   "metadata": {},
   "source": [
    "#### CATEGORIA 3"
   ]
  },
  {
   "cell_type": "code",
   "execution_count": 48,
   "id": "casual-richmond",
   "metadata": {},
   "outputs": [
    {
     "name": "stdout",
     "output_type": "stream",
     "text": [
      "El minimo del descenso es:  0.09565733401562926\n"
     ]
    }
   ],
   "source": [
    "t23, c23, ts23 = gradient_descent(\n",
    "    x_train3, \n",
    "    y_train2,\n",
    "    theta_0,\n",
    "    linear_cost, \n",
    "    linear_cost_gradient, \n",
    "    lmbd = 10,\n",
    "    learning_rate = 0.01, \n",
    "    threshold = 0.1, \n",
    "    max_iter = 1000\n",
    ")\n",
    "\n",
    "print(\"El minimo del descenso es: \", min(c23))"
   ]
  },
  {
   "cell_type": "code",
   "execution_count": 49,
   "id": "sitting-appeal",
   "metadata": {},
   "outputs": [
    {
     "data": {
      "image/png": "[encoded data removed]",
      "text/plain": [
       "<Figure size 432x288 with 1 Axes>"
      ]
     },
     "metadata": {
      "needs_background": "light"
     },
     "output_type": "display_data"
    }
   ],
   "source": [
    "plt.figure()\n",
    "plt.scatter(x=x_train3[:,1],y= y_train2)          \n",
    "plt.scatter(x=x_test3[:,1], y=pred3)\n",
    "plt.show()"
   ]
  },
  {
   "cell_type": "markdown",
   "id": "automated-rescue",
   "metadata": {},
   "source": [
    "### MODELO GRADO 5"
   ]
  },
  {
   "cell_type": "code",
   "execution_count": 50,
   "id": "danish-shelf",
   "metadata": {},
   "outputs": [],
   "source": [
    "X5 = X_procesado ** 5\n",
    "x_train5, x_test5 = train_test_split(X5, test_size=0.33)\n",
    "\n",
    "t05, c05, ts05 = gradient_descent(\n",
    "    x_train5, \n",
    "    y_train0,\n",
    "    theta_0,\n",
    "    linear_cost, \n",
    "    linear_cost_gradient, \n",
    "    lmbd = 10,\n",
    "    learning_rate = 0.01, \n",
    "    threshold = 0.1, \n",
    "    max_iter = 1000\n",
    ")"
   ]
  },
  {
   "cell_type": "code",
   "execution_count": 51,
   "id": "sensitive-yield",
   "metadata": {},
   "outputs": [
    {
     "name": "stdout",
     "output_type": "stream",
     "text": [
      "El minimo del descenso es:  0.10502871036420504\n"
     ]
    }
   ],
   "source": [
    "print(\"El minimo del descenso es: \", min(c05))"
   ]
  },
  {
   "cell_type": "code",
   "execution_count": 52,
   "id": "activated-republican",
   "metadata": {},
   "outputs": [
    {
     "data": {
      "image/png": "[encoded data removed]",
      "text/plain": [
       "<Figure size 576x288 with 1 Axes>"
      ]
     },
     "metadata": {
      "needs_background": "light"
     },
     "output_type": "display_data"
    }
   ],
   "source": [
    "fig,ax = plt.subplots(figsize=(8,4))\n",
    "_=ax.plot(range(1000),c05,'b.')"
   ]
  },
  {
   "cell_type": "code",
   "execution_count": 53,
   "id": "active-bristol",
   "metadata": {},
   "outputs": [
    {
     "data": {
      "image/png": "[encoded data removed]",
      "text/plain": [
       "<Figure size 432x288 with 1 Axes>"
      ]
     },
     "metadata": {
      "needs_background": "light"
     },
     "output_type": "display_data"
    }
   ],
   "source": [
    "pred5 = sigmoid(x_test5 @ theta_0)\n",
    "\n",
    "plt.figure()\n",
    "plt.scatter(x=x_train5[:,1],y= y_train0)          \n",
    "plt.scatter(x=x_test5[:,1], y=pred5)\n",
    "plt.show()"
   ]
  },
  {
   "cell_type": "markdown",
   "id": "periodic-colon",
   "metadata": {},
   "source": [
    "### RESULTADOS\n",
    "\n",
    "- El analisis de los tres tipos de vinosolo se realizo para los modelos de 2 grados (grado 1 y grado 3)\n",
    "- Estos dos modelos logisticos fueron los mejores prediciendo el tipo de alcohol \n",
    "- El grado 2 convergia demasiado rapido y con un comportamiento anormal y el grado 5 ya estaba demasiado sesgado (por lo que solo se analizo un tipo de vino y se descartaron)\n",
    "\n",
    "#### SELECCION DE MODELO\n",
    "El mejor modelo fue el GRADO 3\n",
    "Este alcanzo el descenso minimo de todos y el comportamiento de la nube de puntos era el mas similar a los datos del test set."
   ]
  }
 ],
 "metadata": {
  "kernelspec": {
   "display_name": "Python 3",
   "language": "python",
   "name": "python3"
  },
  "language_info": {
   "codemirror_mode": {
    "name": "ipython",
    "version": 3
   },
   "file_extension": ".py",
   "mimetype": "text/x-python",
   "name": "python",
   "nbconvert_exporter": "python",
   "pygments_lexer": "ipython3",
   "version": "3.7.4"
  }
 },
 "nbformat": 4,
 "nbformat_minor": 5
}
